{
 "metadata": {
  "name": "",
  "signature": "sha256:35397e648abfe1cd7c2090a082883dc9e05b6aaf096cd66f5def84e917efe55e"
 },
 "nbformat": 3,
 "nbformat_minor": 0,
 "worksheets": [
  {
   "cells": [
    {
     "cell_type": "code",
     "collapsed": false,
     "input": [
      "from sympy import *\n",
      "from sympy.interactive.printing import init_printing\n",
      "init_printing()"
     ],
     "language": "python",
     "metadata": {},
     "outputs": [],
     "prompt_number": 1
    },
    {
     "cell_type": "code",
     "collapsed": false,
     "input": [
      "from sympa import domath"
     ],
     "language": "python",
     "metadata": {},
     "outputs": [],
     "prompt_number": 2
    },
    {
     "cell_type": "code",
     "collapsed": false,
     "input": [
      "import pandas as pd"
     ],
     "language": "python",
     "metadata": {},
     "outputs": [],
     "prompt_number": 3
    },
    {
     "cell_type": "code",
     "collapsed": false,
     "input": [
      "df = pd.DataFrame({'x' : range(7)})\n",
      "df['x'] = df.x * 10\n",
      "df['y'] = df.x * 0.05\n",
      "df['r'] = pi * df['y'] / 2\n",
      "df"
     ],
     "language": "python",
     "metadata": {},
     "outputs": [
      {
       "html": [
        "<div style=\"max-height:1000px;max-width:1500px;overflow:auto;\">\n",
        "<table border=\"1\" class=\"dataframe\">\n",
        "  <thead>\n",
        "    <tr style=\"text-align: right;\">\n",
        "      <th></th>\n",
        "      <th>x</th>\n",
        "      <th>y</th>\n",
        "      <th>r</th>\n",
        "    </tr>\n",
        "  </thead>\n",
        "  <tbody>\n",
        "    <tr>\n",
        "      <th>0</th>\n",
        "      <td>  0</td>\n",
        "      <td> 0.0</td>\n",
        "      <td>       0</td>\n",
        "    </tr>\n",
        "    <tr>\n",
        "      <th>1</th>\n",
        "      <td> 10</td>\n",
        "      <td> 0.5</td>\n",
        "      <td> 0.25*pi</td>\n",
        "    </tr>\n",
        "    <tr>\n",
        "      <th>2</th>\n",
        "      <td> 20</td>\n",
        "      <td> 1.0</td>\n",
        "      <td>  0.5*pi</td>\n",
        "    </tr>\n",
        "    <tr>\n",
        "      <th>3</th>\n",
        "      <td> 30</td>\n",
        "      <td> 1.5</td>\n",
        "      <td> 0.75*pi</td>\n",
        "    </tr>\n",
        "    <tr>\n",
        "      <th>4</th>\n",
        "      <td> 40</td>\n",
        "      <td> 2.0</td>\n",
        "      <td>  1.0*pi</td>\n",
        "    </tr>\n",
        "    <tr>\n",
        "      <th>5</th>\n",
        "      <td> 50</td>\n",
        "      <td> 2.5</td>\n",
        "      <td> 1.25*pi</td>\n",
        "    </tr>\n",
        "    <tr>\n",
        "      <th>6</th>\n",
        "      <td> 60</td>\n",
        "      <td> 3.0</td>\n",
        "      <td>  1.5*pi</td>\n",
        "    </tr>\n",
        "  </tbody>\n",
        "</table>\n",
        "</div>"
       ],
       "metadata": {},
       "output_type": "pyout",
       "prompt_number": 4,
       "text": [
        "    x    y        r\n",
        "0   0  0.0        0\n",
        "1  10  0.5  0.25*pi\n",
        "2  20  1.0   0.5*pi\n",
        "3  30  1.5  0.75*pi\n",
        "4  40  2.0   1.0*pi\n",
        "5  50  2.5  1.25*pi\n",
        "6  60  3.0   1.5*pi"
       ]
      }
     ],
     "prompt_number": 4
    },
    {
     "cell_type": "code",
     "collapsed": false,
     "input": [
      "#for those who don't know...\"pi\" is irrational...\n",
      "df['r'][1]"
     ],
     "language": "python",
     "metadata": {},
     "outputs": [
      {
       "latex": [
        "$$0.25 \\pi$$"
       ],
       "metadata": {},
       "output_type": "pyout",
       "png": "[encoded data removed]",
       "prompt_number": 5,
       "text": [
        "0.25\u22c5\u03c0"
       ]
      }
     ],
     "prompt_number": 5
    },
    {
     "cell_type": "code",
     "collapsed": false,
     "input": [
      "x,y,r,rn1,x1,xn1,yn1 = symbols('x y r r_-1 x_1 x_-1 y_-1')\n",
      "f = x + xn1\n",
      "g = x**y + x*y*3.0 + (x1 * 0.5 + xn1 * pi / (yn1 + 1.0))**2\n",
      "h = sin(r)\n",
      "i = sin(r) / cos(rn1 + 1)"
     ],
     "language": "python",
     "metadata": {},
     "outputs": [],
     "prompt_number": 6
    },
    {
     "cell_type": "code",
     "collapsed": false,
     "input": [
      "f, g, h, i"
     ],
     "language": "python",
     "metadata": {},
     "outputs": [
      {
       "latex": [
        "$$\\left ( x + x_{-1}, \\quad 3.0 x y + x^{y} + \\left(\\frac{\\pi x_{-1}}{y_{-1} + 1.0} + 0.5 x_{1}\\right)^{2}, \\quad \\sin{\\left (r \\right )}, \\quad \\frac{\\sin{\\left (r \\right )}}{\\cos{\\left (r_{-1} + 1 \\right )}}\\right )$$"
       ],
       "metadata": {},
       "output_type": "pyout",
       "png": "[encoded data removed]",
       "prompt_number": 7,
       "text": [
        "\u239b                                            2                      \u239e\n",
        "\u239c                    y   \u239b  \u03c0\u22c5x\u208b\u2081           \u239e              sin(r)   \u239f\n",
        "\u239cx + x\u208b\u2081, 3.0\u22c5x\u22c5y + x  + \u239c\u2500\u2500\u2500\u2500\u2500\u2500\u2500\u2500\u2500 + 0.5\u22c5x\u2081\u239f , sin(r), \u2500\u2500\u2500\u2500\u2500\u2500\u2500\u2500\u2500\u2500\u2500\u2500\u239f\n",
        "\u239d                        \u239dy\u208b\u2081 + 1.0         \u23a0           cos(r\u208b\u2081 + 1)\u23a0"
       ]
      }
     ],
     "prompt_number": 7
    },
    {
     "cell_type": "code",
     "collapsed": false,
     "input": [
      "df.x + df.x.shift(1) #this is easy...but not exactly "
     ],
     "language": "python",
     "metadata": {},
     "outputs": [
      {
       "metadata": {},
       "output_type": "pyout",
       "prompt_number": 8,
       "text": [
        "0    NaN\n",
        "1     10\n",
        "2     30\n",
        "3     50\n",
        "4     70\n",
        "5     90\n",
        "6    110\n",
        "Name: x, dtype: float64"
       ]
      }
     ],
     "prompt_number": 8
    },
    {
     "cell_type": "code",
     "collapsed": false,
     "input": [
      "#3.0 * df.x * df.y + df.x.mul(df.y) + (df.shift(1).mul(pi).div(df.shift(1) + 1.0))# + (0.5 * df.x.shift(-1))) # what the heck am I doing???"
     ],
     "language": "python",
     "metadata": {},
     "outputs": [],
     "prompt_number": 9
    },
    {
     "cell_type": "code",
     "collapsed": false,
     "input": [
      "df['f'] = domath(df,f)\n",
      "df['g'] = domath(df,g)\n",
      "df['h'] = domath(df,h)\n",
      "df['i'] = domath(df,i)"
     ],
     "language": "python",
     "metadata": {},
     "outputs": [],
     "prompt_number": 10
    },
    {
     "cell_type": "code",
     "collapsed": false,
     "input": [
      "#round the excessive decimals...\n",
      "df.g, df.h, df.i = (df[c].round(4) for c in ('g','h','i')); df"
     ],
     "language": "python",
     "metadata": {},
     "outputs": [
      {
       "html": [
        "<div style=\"max-height:1000px;max-width:1500px;overflow:auto;\">\n",
        "<table border=\"1\" class=\"dataframe\">\n",
        "  <thead>\n",
        "    <tr style=\"text-align: right;\">\n",
        "      <th></th>\n",
        "      <th>x</th>\n",
        "      <th>y</th>\n",
        "      <th>r</th>\n",
        "      <th>f</th>\n",
        "      <th>g</th>\n",
        "      <th>h</th>\n",
        "      <th>i</th>\n",
        "    </tr>\n",
        "  </thead>\n",
        "  <tbody>\n",
        "    <tr>\n",
        "      <th>0</th>\n",
        "      <td>  0</td>\n",
        "      <td> 0.0</td>\n",
        "      <td>       0</td>\n",
        "      <td> NaN</td>\n",
        "      <td>        NaN</td>\n",
        "      <td> 0.0000</td>\n",
        "      <td>    NaN</td>\n",
        "    </tr>\n",
        "    <tr>\n",
        "      <th>1</th>\n",
        "      <td> 10</td>\n",
        "      <td> 0.5</td>\n",
        "      <td> 0.25*pi</td>\n",
        "      <td>  10</td>\n",
        "      <td>   118.1623</td>\n",
        "      <td> 0.7071</td>\n",
        "      <td> 1.3087</td>\n",
        "    </tr>\n",
        "    <tr>\n",
        "      <th>2</th>\n",
        "      <td> 20</td>\n",
        "      <td> 1.0</td>\n",
        "      <td>  0.5*pi</td>\n",
        "      <td>  30</td>\n",
        "      <td>  1371.9676</td>\n",
        "      <td> 1.0000</td>\n",
        "      <td>-4.6958</td>\n",
        "    </tr>\n",
        "    <tr>\n",
        "      <th>3</th>\n",
        "      <td> 30</td>\n",
        "      <td> 1.5</td>\n",
        "      <td> 0.75*pi</td>\n",
        "      <td>  50</td>\n",
        "      <td>  2942.9143</td>\n",
        "      <td> 0.7071</td>\n",
        "      <td>-0.8403</td>\n",
        "    </tr>\n",
        "    <tr>\n",
        "      <th>4</th>\n",
        "      <td> 40</td>\n",
        "      <td> 2.0</td>\n",
        "      <td>  1.0*pi</td>\n",
        "      <td>  70</td>\n",
        "      <td>  5771.1786</td>\n",
        "      <td> 0.0000</td>\n",
        "      <td> 0.0000</td>\n",
        "    </tr>\n",
        "    <tr>\n",
        "      <th>5</th>\n",
        "      <td> 50</td>\n",
        "      <td> 2.5</td>\n",
        "      <td> 1.25*pi</td>\n",
        "      <td>  90</td>\n",
        "      <td> 23220.5400</td>\n",
        "      <td>-0.7071</td>\n",
        "      <td> 1.3087</td>\n",
        "    </tr>\n",
        "    <tr>\n",
        "      <th>6</th>\n",
        "      <td> 60</td>\n",
        "      <td> 3.0</td>\n",
        "      <td>  1.5*pi</td>\n",
        "      <td> 110</td>\n",
        "      <td>        NaN</td>\n",
        "      <td>-1.0000</td>\n",
        "      <td>-4.6958</td>\n",
        "    </tr>\n",
        "  </tbody>\n",
        "</table>\n",
        "</div>"
       ],
       "metadata": {},
       "output_type": "pyout",
       "prompt_number": 11,
       "text": [
        "    x    y        r    f           g       h       i\n",
        "0   0  0.0        0  NaN         NaN  0.0000     NaN\n",
        "1  10  0.5  0.25*pi   10    118.1623  0.7071  1.3087\n",
        "2  20  1.0   0.5*pi   30   1371.9676  1.0000 -4.6958\n",
        "3  30  1.5  0.75*pi   50   2942.9143  0.7071 -0.8403\n",
        "4  40  2.0   1.0*pi   70   5771.1786  0.0000  0.0000\n",
        "5  50  2.5  1.25*pi   90  23220.5400 -0.7071  1.3087\n",
        "6  60  3.0   1.5*pi  110         NaN -1.0000 -4.6958"
       ]
      }
     ],
     "prompt_number": 11
    },
    {
     "cell_type": "code",
     "collapsed": false,
     "input": [
      "assert f.subs([(x,50),(xn1,40)]) == df['f'].iloc[5]\n",
      "assert round(g.subs([(x,50),(y,2.5),(xn1,40),(x1,60),(yn1,2.0)]),4) == df['g'].iloc[5]\n",
      "assert round(h.subs([(r,1.25*pi)]),4) == df['h'].iloc[5]\n",
      "assert round(i.subs([(r,1.25*pi),(rn1,pi)]),4) == df['i'].iloc[5]"
     ],
     "language": "python",
     "metadata": {},
     "outputs": [],
     "prompt_number": 12
    },
    {
     "cell_type": "code",
     "collapsed": false,
     "input": [],
     "language": "python",
     "metadata": {},
     "outputs": [],
     "prompt_number": 12
    },
    {
     "cell_type": "code",
     "collapsed": false,
     "input": [],
     "language": "python",
     "metadata": {},
     "outputs": []
    }
   ],
   "metadata": {}
  }
 ]
}